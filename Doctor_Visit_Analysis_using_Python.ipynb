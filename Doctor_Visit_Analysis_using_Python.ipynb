{
 "cells": [
  {
   "cell_type": "markdown",
   "metadata": {},
   "source": [
    "# Import Libraries\n",
    "\n",
    "\n"
   ]
  },
  {
   "cell_type": "code",
   "execution_count": 1,
   "metadata": {
    "id": "zs4K3tpxNUlv"
   },
   "outputs": [],
   "source": [
    "import numpy as np\n",
    "import pandas as pd\n",
    "import seaborn as sns\n",
    "import matplotlib.pyplot as plt"
   ]
  },
  {
   "cell_type": "code",
   "execution_count": 2,
   "metadata": {
    "id": "ug-8O5OOOJFL"
   },
   "outputs": [],
   "source": [
    "df=pd.read_csv('DoctorVisits - DA.csv')"
   ]
  },
  {
   "cell_type": "markdown",
   "metadata": {},
   "source": [
    " # Dataset First Look"
   ]
  },
  {
   "cell_type": "code",
   "execution_count": 3,
   "metadata": {
    "colab": {
     "base_uri": "https://localhost:8080/",
     "height": 206
    },
    "id": "ZjMcwlXdOPj4",
    "outputId": "83664beb-1f80-418b-9954-569b388916d4"
   },
   "outputs": [
    {
     "data": {
      "text/html": [
       "<div>\n",
       "<style scoped>\n",
       "    .dataframe tbody tr th:only-of-type {\n",
       "        vertical-align: middle;\n",
       "    }\n",
       "\n",
       "    .dataframe tbody tr th {\n",
       "        vertical-align: top;\n",
       "    }\n",
       "\n",
       "    .dataframe thead th {\n",
       "        text-align: right;\n",
       "    }\n",
       "</style>\n",
       "<table border=\"1\" class=\"dataframe\">\n",
       "  <thead>\n",
       "    <tr style=\"text-align: right;\">\n",
       "      <th></th>\n",
       "      <th>Unnamed: 0</th>\n",
       "      <th>visits</th>\n",
       "      <th>gender</th>\n",
       "      <th>age</th>\n",
       "      <th>income</th>\n",
       "      <th>illness</th>\n",
       "      <th>reduced</th>\n",
       "      <th>health</th>\n",
       "      <th>private</th>\n",
       "      <th>freepoor</th>\n",
       "      <th>freerepat</th>\n",
       "      <th>nchronic</th>\n",
       "      <th>lchronic</th>\n",
       "    </tr>\n",
       "  </thead>\n",
       "  <tbody>\n",
       "    <tr>\n",
       "      <th>0</th>\n",
       "      <td>1</td>\n",
       "      <td>1</td>\n",
       "      <td>female</td>\n",
       "      <td>0.19</td>\n",
       "      <td>0.55</td>\n",
       "      <td>1</td>\n",
       "      <td>4</td>\n",
       "      <td>1</td>\n",
       "      <td>yes</td>\n",
       "      <td>no</td>\n",
       "      <td>no</td>\n",
       "      <td>no</td>\n",
       "      <td>no</td>\n",
       "    </tr>\n",
       "    <tr>\n",
       "      <th>1</th>\n",
       "      <td>2</td>\n",
       "      <td>1</td>\n",
       "      <td>female</td>\n",
       "      <td>0.19</td>\n",
       "      <td>0.45</td>\n",
       "      <td>1</td>\n",
       "      <td>2</td>\n",
       "      <td>1</td>\n",
       "      <td>yes</td>\n",
       "      <td>no</td>\n",
       "      <td>no</td>\n",
       "      <td>no</td>\n",
       "      <td>no</td>\n",
       "    </tr>\n",
       "    <tr>\n",
       "      <th>2</th>\n",
       "      <td>3</td>\n",
       "      <td>1</td>\n",
       "      <td>male</td>\n",
       "      <td>0.19</td>\n",
       "      <td>0.90</td>\n",
       "      <td>3</td>\n",
       "      <td>0</td>\n",
       "      <td>0</td>\n",
       "      <td>no</td>\n",
       "      <td>no</td>\n",
       "      <td>no</td>\n",
       "      <td>no</td>\n",
       "      <td>no</td>\n",
       "    </tr>\n",
       "    <tr>\n",
       "      <th>3</th>\n",
       "      <td>4</td>\n",
       "      <td>1</td>\n",
       "      <td>male</td>\n",
       "      <td>0.19</td>\n",
       "      <td>0.15</td>\n",
       "      <td>1</td>\n",
       "      <td>0</td>\n",
       "      <td>0</td>\n",
       "      <td>no</td>\n",
       "      <td>no</td>\n",
       "      <td>no</td>\n",
       "      <td>no</td>\n",
       "      <td>no</td>\n",
       "    </tr>\n",
       "    <tr>\n",
       "      <th>4</th>\n",
       "      <td>5</td>\n",
       "      <td>1</td>\n",
       "      <td>male</td>\n",
       "      <td>0.19</td>\n",
       "      <td>0.45</td>\n",
       "      <td>2</td>\n",
       "      <td>5</td>\n",
       "      <td>1</td>\n",
       "      <td>no</td>\n",
       "      <td>no</td>\n",
       "      <td>no</td>\n",
       "      <td>yes</td>\n",
       "      <td>no</td>\n",
       "    </tr>\n",
       "  </tbody>\n",
       "</table>\n",
       "</div>"
      ],
      "text/plain": [
       "   Unnamed: 0  visits  gender   age  income  illness  reduced  health private  \\\n",
       "0           1       1  female  0.19    0.55        1        4       1     yes   \n",
       "1           2       1  female  0.19    0.45        1        2       1     yes   \n",
       "2           3       1    male  0.19    0.90        3        0       0      no   \n",
       "3           4       1    male  0.19    0.15        1        0       0      no   \n",
       "4           5       1    male  0.19    0.45        2        5       1      no   \n",
       "\n",
       "  freepoor freerepat nchronic lchronic  \n",
       "0       no        no       no       no  \n",
       "1       no        no       no       no  \n",
       "2       no        no       no       no  \n",
       "3       no        no       no       no  \n",
       "4       no        no      yes       no  "
      ]
     },
     "execution_count": 3,
     "metadata": {},
     "output_type": "execute_result"
    }
   ],
   "source": [
    "df.head()"
   ]
  },
  {
   "cell_type": "markdown",
   "metadata": {},
   "source": [
    "# Dataset Rows & Columns count"
   ]
  },
  {
   "cell_type": "code",
   "execution_count": 4,
   "metadata": {
    "colab": {
     "base_uri": "https://localhost:8080/"
    },
    "id": "6mwaHhfHOkEb",
    "outputId": "b05726fc-5806-43f4-8045-21cae9be6452"
   },
   "outputs": [
    {
     "name": "stdout",
     "output_type": "stream",
     "text": [
      "The shape of Hotel booking is (5190, 13)\n"
     ]
    }
   ],
   "source": [
    "print(f\"The shape of dataset is {df.shape}\")"
   ]
  },
  {
   "cell_type": "markdown",
   "metadata": {},
   "source": [
    "# Dataset Info"
   ]
  },
  {
   "cell_type": "code",
   "execution_count": 5,
   "metadata": {
    "colab": {
     "base_uri": "https://localhost:8080/"
    },
    "id": "_DkGLGAEOmHS",
    "outputId": "703a13fd-ef39-4b35-a93f-21727734ef5b"
   },
   "outputs": [
    {
     "name": "stdout",
     "output_type": "stream",
     "text": [
      "<class 'pandas.core.frame.DataFrame'>\n",
      "RangeIndex: 5190 entries, 0 to 5189\n",
      "Data columns (total 13 columns):\n",
      " #   Column      Non-Null Count  Dtype  \n",
      "---  ------      --------------  -----  \n",
      " 0   Unnamed: 0  5190 non-null   int64  \n",
      " 1   visits      5190 non-null   int64  \n",
      " 2   gender      5190 non-null   object \n",
      " 3   age         5190 non-null   float64\n",
      " 4   income      5190 non-null   float64\n",
      " 5   illness     5190 non-null   int64  \n",
      " 6   reduced     5190 non-null   int64  \n",
      " 7   health      5190 non-null   int64  \n",
      " 8   private     5190 non-null   object \n",
      " 9   freepoor    5190 non-null   object \n",
      " 10  freerepat   5190 non-null   object \n",
      " 11  nchronic    5190 non-null   object \n",
      " 12  lchronic    5190 non-null   object \n",
      "dtypes: float64(2), int64(5), object(6)\n",
      "memory usage: 527.2+ KB\n"
     ]
    }
   ],
   "source": [
    "df.info()"
   ]
  },
  {
   "cell_type": "markdown",
   "metadata": {},
   "source": [
    " # Dataset Duplicate Value Count"
   ]
  },
  {
   "cell_type": "code",
   "execution_count": 6,
   "metadata": {
    "colab": {
     "base_uri": "https://localhost:8080/"
    },
    "id": "W0xtddDEOmJq",
    "outputId": "8e9f9213-8639-4108-c8f9-252b2744646e"
   },
   "outputs": [
    {
     "data": {
      "text/plain": [
       "0"
      ]
     },
     "execution_count": 6,
     "metadata": {},
     "output_type": "execute_result"
    }
   ],
   "source": [
    "\n",
    "df.duplicated().sum()\n"
   ]
  },
  {
   "cell_type": "markdown",
   "metadata": {},
   "source": [
    "# Missing Values/Null Values Count"
   ]
  },
  {
   "cell_type": "code",
   "execution_count": 7,
   "metadata": {
    "colab": {
     "base_uri": "https://localhost:8080/"
    },
    "id": "SjYv1ah0OmMM",
    "outputId": "d1ba6e16-981a-4dfa-d037-32aa14e1a650"
   },
   "outputs": [
    {
     "data": {
      "text/plain": [
       "Unnamed: 0    0\n",
       "visits        0\n",
       "gender        0\n",
       "age           0\n",
       "income        0\n",
       "illness       0\n",
       "reduced       0\n",
       "health        0\n",
       "private       0\n",
       "freepoor      0\n",
       "freerepat     0\n",
       "nchronic      0\n",
       "lchronic      0\n",
       "dtype: int64"
      ]
     },
     "execution_count": 7,
     "metadata": {},
     "output_type": "execute_result"
    }
   ],
   "source": [
    "df.isnull().sum()"
   ]
  },
  {
   "cell_type": "code",
   "execution_count": 8,
   "metadata": {
    "colab": {
     "base_uri": "https://localhost:8080/"
    },
    "id": "2xJau8WTOmOs",
    "outputId": "9b3200a8-834d-423d-895b-db6fd1be9f90"
   },
   "outputs": [
    {
     "data": {
      "text/plain": [
       "(5190, 13)"
      ]
     },
     "execution_count": 8,
     "metadata": {},
     "output_type": "execute_result"
    }
   ],
   "source": [
    "df.shape\n"
   ]
  },
  {
   "cell_type": "markdown",
   "metadata": {},
   "source": [
    "# Dataset Columns\n"
   ]
  },
  {
   "cell_type": "code",
   "execution_count": 9,
   "metadata": {
    "colab": {
     "base_uri": "https://localhost:8080/"
    },
    "id": "cwJPHd1yOmWS",
    "outputId": "dad391b7-2af4-49ad-c8c7-b45e4efa864b"
   },
   "outputs": [
    {
     "data": {
      "text/plain": [
       "Index(['Unnamed: 0', 'visits', 'gender', 'age', 'income', 'illness', 'reduced',\n",
       "       'health', 'private', 'freepoor', 'freerepat', 'nchronic', 'lchronic'],\n",
       "      dtype='object')"
      ]
     },
     "execution_count": 9,
     "metadata": {},
     "output_type": "execute_result"
    }
   ],
   "source": [
    "df.columns"
   ]
  },
  {
   "cell_type": "markdown",
   "metadata": {},
   "source": [
    "# Dataset Describe\n"
   ]
  },
  {
   "cell_type": "code",
   "execution_count": 10,
   "metadata": {
    "colab": {
     "base_uri": "https://localhost:8080/",
     "height": 300
    },
    "id": "33JbrGDeOmY7",
    "outputId": "bd8fb480-a29f-45b2-aeb7-2a18686c529a"
   },
   "outputs": [
    {
     "data": {
      "text/html": [
       "<div>\n",
       "<style scoped>\n",
       "    .dataframe tbody tr th:only-of-type {\n",
       "        vertical-align: middle;\n",
       "    }\n",
       "\n",
       "    .dataframe tbody tr th {\n",
       "        vertical-align: top;\n",
       "    }\n",
       "\n",
       "    .dataframe thead th {\n",
       "        text-align: right;\n",
       "    }\n",
       "</style>\n",
       "<table border=\"1\" class=\"dataframe\">\n",
       "  <thead>\n",
       "    <tr style=\"text-align: right;\">\n",
       "      <th></th>\n",
       "      <th>Unnamed: 0</th>\n",
       "      <th>visits</th>\n",
       "      <th>age</th>\n",
       "      <th>income</th>\n",
       "      <th>illness</th>\n",
       "      <th>reduced</th>\n",
       "      <th>health</th>\n",
       "    </tr>\n",
       "  </thead>\n",
       "  <tbody>\n",
       "    <tr>\n",
       "      <th>count</th>\n",
       "      <td>5190.000000</td>\n",
       "      <td>5190.000000</td>\n",
       "      <td>5190.000000</td>\n",
       "      <td>5190.000000</td>\n",
       "      <td>5190.000000</td>\n",
       "      <td>5190.000000</td>\n",
       "      <td>5190.000000</td>\n",
       "    </tr>\n",
       "    <tr>\n",
       "      <th>mean</th>\n",
       "      <td>2595.500000</td>\n",
       "      <td>0.301734</td>\n",
       "      <td>0.406385</td>\n",
       "      <td>0.583160</td>\n",
       "      <td>1.431985</td>\n",
       "      <td>0.861850</td>\n",
       "      <td>1.217534</td>\n",
       "    </tr>\n",
       "    <tr>\n",
       "      <th>std</th>\n",
       "      <td>1498.368279</td>\n",
       "      <td>0.798134</td>\n",
       "      <td>0.204782</td>\n",
       "      <td>0.368907</td>\n",
       "      <td>1.384152</td>\n",
       "      <td>2.887628</td>\n",
       "      <td>2.124266</td>\n",
       "    </tr>\n",
       "    <tr>\n",
       "      <th>min</th>\n",
       "      <td>1.000000</td>\n",
       "      <td>0.000000</td>\n",
       "      <td>0.190000</td>\n",
       "      <td>0.000000</td>\n",
       "      <td>0.000000</td>\n",
       "      <td>0.000000</td>\n",
       "      <td>0.000000</td>\n",
       "    </tr>\n",
       "    <tr>\n",
       "      <th>25%</th>\n",
       "      <td>1298.250000</td>\n",
       "      <td>0.000000</td>\n",
       "      <td>0.220000</td>\n",
       "      <td>0.250000</td>\n",
       "      <td>0.000000</td>\n",
       "      <td>0.000000</td>\n",
       "      <td>0.000000</td>\n",
       "    </tr>\n",
       "    <tr>\n",
       "      <th>50%</th>\n",
       "      <td>2595.500000</td>\n",
       "      <td>0.000000</td>\n",
       "      <td>0.320000</td>\n",
       "      <td>0.550000</td>\n",
       "      <td>1.000000</td>\n",
       "      <td>0.000000</td>\n",
       "      <td>0.000000</td>\n",
       "    </tr>\n",
       "    <tr>\n",
       "      <th>75%</th>\n",
       "      <td>3892.750000</td>\n",
       "      <td>0.000000</td>\n",
       "      <td>0.620000</td>\n",
       "      <td>0.900000</td>\n",
       "      <td>2.000000</td>\n",
       "      <td>0.000000</td>\n",
       "      <td>2.000000</td>\n",
       "    </tr>\n",
       "    <tr>\n",
       "      <th>max</th>\n",
       "      <td>5190.000000</td>\n",
       "      <td>9.000000</td>\n",
       "      <td>0.720000</td>\n",
       "      <td>1.500000</td>\n",
       "      <td>5.000000</td>\n",
       "      <td>14.000000</td>\n",
       "      <td>12.000000</td>\n",
       "    </tr>\n",
       "  </tbody>\n",
       "</table>\n",
       "</div>"
      ],
      "text/plain": [
       "        Unnamed: 0       visits          age       income      illness  \\\n",
       "count  5190.000000  5190.000000  5190.000000  5190.000000  5190.000000   \n",
       "mean   2595.500000     0.301734     0.406385     0.583160     1.431985   \n",
       "std    1498.368279     0.798134     0.204782     0.368907     1.384152   \n",
       "min       1.000000     0.000000     0.190000     0.000000     0.000000   \n",
       "25%    1298.250000     0.000000     0.220000     0.250000     0.000000   \n",
       "50%    2595.500000     0.000000     0.320000     0.550000     1.000000   \n",
       "75%    3892.750000     0.000000     0.620000     0.900000     2.000000   \n",
       "max    5190.000000     9.000000     0.720000     1.500000     5.000000   \n",
       "\n",
       "           reduced       health  \n",
       "count  5190.000000  5190.000000  \n",
       "mean      0.861850     1.217534  \n",
       "std       2.887628     2.124266  \n",
       "min       0.000000     0.000000  \n",
       "25%       0.000000     0.000000  \n",
       "50%       0.000000     0.000000  \n",
       "75%       0.000000     2.000000  \n",
       "max      14.000000    12.000000  "
      ]
     },
     "execution_count": 10,
     "metadata": {},
     "output_type": "execute_result"
    }
   ],
   "source": [
    "df.describe()"
   ]
  },
  {
   "cell_type": "code",
   "execution_count": 11,
   "metadata": {
    "colab": {
     "base_uri": "https://localhost:8080/"
    },
    "id": "pjoaeLHvOmbb",
    "outputId": "c38cd7f3-870b-4867-9a53-156fb95b7545"
   },
   "outputs": [
    {
     "name": "stdout",
     "output_type": "stream",
     "text": [
      "Unique values for Unnamed: 0: [   1    2    3 ... 5188 5189 5190]\n",
      "Unique values for visits: [1 2 3 4 8 5 7 6 9 0]\n",
      "Unique values for gender: ['female' 'male']\n",
      "Unique values for age: [0.19 0.22 0.27 0.32 0.37 0.42 0.47 0.52 0.57 0.62 0.67 0.72]\n",
      "Unique values for income: [0.55 0.45 0.9  0.15 0.35 0.65 0.25 0.   0.06 1.1  0.75 0.01 1.3  1.5 ]\n",
      "Unique values for illness: [1 3 2 5 4 0]\n",
      "Unique values for reduced: [ 4  2  0  5  1 13  7  3 14  6  8  9 10 12 11]\n",
      "Unique values for health: [ 1  0  9  2  6  5  7 11  4 12  3 10  8]\n",
      "Unique values for private: ['yes' 'no']\n",
      "Unique values for freepoor: ['no' 'yes']\n",
      "Unique values for freerepat: ['no' 'yes']\n",
      "Unique values for nchronic: ['no' 'yes']\n",
      "Unique values for lchronic: ['no' 'yes']\n"
     ]
    }
   ],
   "source": [
    "for column in df.columns:\n",
    "    unique_values = df[column].unique()\n",
    "    print(f'Unique values for {column}: {unique_values}')"
   ]
  },
  {
   "cell_type": "markdown",
   "metadata": {
    "id": "bCtlvw9DOmeD"
   },
   "source": [
    "# Find out the total no of illnesss"
   ]
  },
  {
   "cell_type": "code",
   "execution_count": 12,
   "metadata": {
    "id": "SmMlQckVOmgj"
   },
   "outputs": [],
   "source": [
    "illness_counts=df['illness'].value_counts()"
   ]
  },
  {
   "cell_type": "code",
   "execution_count": 13,
   "metadata": {},
   "outputs": [
    {
     "data": {
      "image/png": "[encoded data removed]",
      "text/plain": [
       "<Figure size 576x432 with 1 Axes>"
      ]
     },
     "metadata": {
      "needs_background": "light"
     },
     "output_type": "display_data"
    }
   ],
   "source": [
    "# Plot the bar plot\n",
    "plt.figure(figsize=(8, 6))\n",
    "sns.barplot(x=illness_counts.index, y=illness_counts.values, color='skyblue')\n",
    "plt.xlabel('Illness')\n",
    "plt.ylabel('Count')\n",
    "plt.title('Total Number of Illness')\n",
    "plt.show()"
   ]
  },
  {
   "cell_type": "markdown",
   "metadata": {},
   "source": [
    "# Find out the total no of male and female"
   ]
  },
  {
   "cell_type": "code",
   "execution_count": 16,
   "metadata": {
    "scrolled": true
   },
   "outputs": [],
   "source": [
    "gender_counts=df['gender'].value_counts()"
   ]
  },
  {
   "cell_type": "code",
   "execution_count": 17,
   "metadata": {},
   "outputs": [
    {
     "data": {
      "image/png": "[encoded data removed]",
      "text/plain": [
       "<Figure size 432x288 with 1 Axes>"
      ]
     },
     "metadata": {
      "needs_background": "light"
     },
     "output_type": "display_data"
    }
   ],
   "source": [
    "# Plot the bar plot\n",
    "plt.figure(figsize=(6, 4))\n",
    "sns.barplot(x=gender_counts.index, y=gender_counts.values, palette='pastel')\n",
    "plt.xlabel('Gender')\n",
    "plt.ylabel('Count')\n",
    "plt.title('Count of Males and Females')\n",
    "plt.show()"
   ]
  },
  {
   "cell_type": "markdown",
   "metadata": {},
   "source": [
    "# Visualize and analyse the minimum,maximum and medium income"
   ]
  },
  {
   "cell_type": "code",
   "execution_count": 18,
   "metadata": {},
   "outputs": [
    {
     "data": {
      "image/png": "[encoded data removed]",
      "text/plain": [
       "<Figure size 576x432 with 1 Axes>"
      ]
     },
     "metadata": {
      "needs_background": "light"
     },
     "output_type": "display_data"
    }
   ],
   "source": [
    "# Create a box plot for the 'income' column\n",
    "plt.figure(figsize=(8, 6))\n",
    "sns.boxplot(x=df['income'], color='lightblue')\n",
    "plt.xlabel('Income')\n",
    "plt.title('Box Plot of Income')\n",
    "plt.show()"
   ]
  },
  {
   "cell_type": "code",
   "execution_count": 19,
   "metadata": {},
   "outputs": [
    {
     "data": {
      "text/plain": [
       "<AxesSubplot:xlabel='gender', ylabel='income'>"
      ]
     },
     "execution_count": 19,
     "metadata": {},
     "output_type": "execute_result"
    },
    {
     "data": {
      "image/png": "[encoded data removed]",
      "text/plain": [
       "<Figure size 1080x504 with 1 Axes>"
      ]
     },
     "metadata": {
      "needs_background": "light"
     },
     "output_type": "display_data"
    }
   ],
   "source": [
    "plt.figure(figsize=(15, 7))\n",
    "sns.boxplot(x = df.gender, y = df.income)"
   ]
  },
  {
   "cell_type": "markdown",
   "metadata": {},
   "source": [
    "**The correlation of income and gender**"
   ]
  },
  {
   "cell_type": "code",
   "execution_count": 20,
   "metadata": {
    "scrolled": false
   },
   "outputs": [
    {
     "data": {
      "text/plain": [
       "<AxesSubplot:xlabel='private', ylabel='income'>"
      ]
     },
     "execution_count": 20,
     "metadata": {},
     "output_type": "execute_result"
    },
    {
     "data": {
      "image/png": "[encoded data removed]",
      "text/plain": [
       "<Figure size 1080x504 with 1 Axes>"
      ]
     },
     "metadata": {
      "needs_background": "light"
     },
     "output_type": "display_data"
    }
   ],
   "source": [
    "plt.figure(figsize=(15, 7))\n",
    "sns.boxplot(x = df.private, y = df.income)"
   ]
  },
  {
   "cell_type": "markdown",
   "metadata": {},
   "source": [
    "**The corrlation of income and private**"
   ]
  },
  {
   "cell_type": "markdown",
   "metadata": {},
   "source": [
    "\n",
    "# Find out the no of days of reduced activity of male and female seperatly due to illenes"
   ]
  },
  {
   "cell_type": "code",
   "execution_count": 21,
   "metadata": {},
   "outputs": [
    {
     "data": {
      "text/html": [
       "<div>\n",
       "<style scoped>\n",
       "    .dataframe tbody tr th:only-of-type {\n",
       "        vertical-align: middle;\n",
       "    }\n",
       "\n",
       "    .dataframe tbody tr th {\n",
       "        vertical-align: top;\n",
       "    }\n",
       "\n",
       "    .dataframe thead th {\n",
       "        text-align: right;\n",
       "    }\n",
       "</style>\n",
       "<table border=\"1\" class=\"dataframe\">\n",
       "  <thead>\n",
       "    <tr style=\"text-align: right;\">\n",
       "      <th></th>\n",
       "      <th></th>\n",
       "      <th>Unnamed: 0</th>\n",
       "      <th>visits</th>\n",
       "      <th>age</th>\n",
       "      <th>income</th>\n",
       "      <th>illness</th>\n",
       "      <th>health</th>\n",
       "    </tr>\n",
       "    <tr>\n",
       "      <th>gender</th>\n",
       "      <th>reduced</th>\n",
       "      <th></th>\n",
       "      <th></th>\n",
       "      <th></th>\n",
       "      <th></th>\n",
       "      <th></th>\n",
       "      <th></th>\n",
       "    </tr>\n",
       "  </thead>\n",
       "  <tbody>\n",
       "    <tr>\n",
       "      <th rowspan=\"14\" valign=\"top\">female</th>\n",
       "      <th>0</th>\n",
       "      <td>2524.038512</td>\n",
       "      <td>0.229322</td>\n",
       "      <td>0.465755</td>\n",
       "      <td>0.482735</td>\n",
       "      <td>1.462144</td>\n",
       "      <td>1.115098</td>\n",
       "    </tr>\n",
       "    <tr>\n",
       "      <th>1</th>\n",
       "      <td>1985.768421</td>\n",
       "      <td>0.400000</td>\n",
       "      <td>0.325684</td>\n",
       "      <td>0.542105</td>\n",
       "      <td>2.242105</td>\n",
       "      <td>1.610526</td>\n",
       "    </tr>\n",
       "    <tr>\n",
       "      <th>2</th>\n",
       "      <td>1622.618182</td>\n",
       "      <td>0.672727</td>\n",
       "      <td>0.391455</td>\n",
       "      <td>0.560182</td>\n",
       "      <td>2.236364</td>\n",
       "      <td>1.781818</td>\n",
       "    </tr>\n",
       "    <tr>\n",
       "      <th>3</th>\n",
       "      <td>997.311111</td>\n",
       "      <td>1.333333</td>\n",
       "      <td>0.403111</td>\n",
       "      <td>0.516000</td>\n",
       "      <td>2.733333</td>\n",
       "      <td>1.733333</td>\n",
       "    </tr>\n",
       "    <tr>\n",
       "      <th>4</th>\n",
       "      <td>1237.740741</td>\n",
       "      <td>0.851852</td>\n",
       "      <td>0.458889</td>\n",
       "      <td>0.466667</td>\n",
       "      <td>2.222222</td>\n",
       "      <td>2.074074</td>\n",
       "    </tr>\n",
       "    <tr>\n",
       "      <th>5</th>\n",
       "      <td>1169.055556</td>\n",
       "      <td>1.444444</td>\n",
       "      <td>0.401667</td>\n",
       "      <td>0.614444</td>\n",
       "      <td>2.222222</td>\n",
       "      <td>2.500000</td>\n",
       "    </tr>\n",
       "    <tr>\n",
       "      <th>6</th>\n",
       "      <td>1382.545455</td>\n",
       "      <td>1.363636</td>\n",
       "      <td>0.426364</td>\n",
       "      <td>0.622727</td>\n",
       "      <td>2.363636</td>\n",
       "      <td>1.363636</td>\n",
       "    </tr>\n",
       "    <tr>\n",
       "      <th>7</th>\n",
       "      <td>1034.846154</td>\n",
       "      <td>1.384615</td>\n",
       "      <td>0.436154</td>\n",
       "      <td>0.473462</td>\n",
       "      <td>2.653846</td>\n",
       "      <td>2.230769</td>\n",
       "    </tr>\n",
       "    <tr>\n",
       "      <th>8</th>\n",
       "      <td>1883.090909</td>\n",
       "      <td>1.090909</td>\n",
       "      <td>0.471818</td>\n",
       "      <td>0.404545</td>\n",
       "      <td>2.181818</td>\n",
       "      <td>4.000000</td>\n",
       "    </tr>\n",
       "    <tr>\n",
       "      <th>9</th>\n",
       "      <td>1349.000000</td>\n",
       "      <td>0.500000</td>\n",
       "      <td>0.570000</td>\n",
       "      <td>0.825000</td>\n",
       "      <td>3.000000</td>\n",
       "      <td>1.000000</td>\n",
       "    </tr>\n",
       "    <tr>\n",
       "      <th>10</th>\n",
       "      <td>1099.428571</td>\n",
       "      <td>2.142857</td>\n",
       "      <td>0.512857</td>\n",
       "      <td>0.421429</td>\n",
       "      <td>2.571429</td>\n",
       "      <td>2.000000</td>\n",
       "    </tr>\n",
       "    <tr>\n",
       "      <th>12</th>\n",
       "      <td>1661.000000</td>\n",
       "      <td>2.000000</td>\n",
       "      <td>0.720000</td>\n",
       "      <td>0.250000</td>\n",
       "      <td>3.500000</td>\n",
       "      <td>5.500000</td>\n",
       "    </tr>\n",
       "    <tr>\n",
       "      <th>13</th>\n",
       "      <td>906.000000</td>\n",
       "      <td>4.000000</td>\n",
       "      <td>0.720000</td>\n",
       "      <td>0.300000</td>\n",
       "      <td>4.500000</td>\n",
       "      <td>3.500000</td>\n",
       "    </tr>\n",
       "    <tr>\n",
       "      <th>14</th>\n",
       "      <td>1392.112069</td>\n",
       "      <td>1.543103</td>\n",
       "      <td>0.551724</td>\n",
       "      <td>0.427586</td>\n",
       "      <td>2.534483</td>\n",
       "      <td>4.112069</td>\n",
       "    </tr>\n",
       "    <tr>\n",
       "      <th rowspan=\"15\" valign=\"top\">male</th>\n",
       "      <th>0</th>\n",
       "      <td>3008.911019</td>\n",
       "      <td>0.136007</td>\n",
       "      <td>0.344703</td>\n",
       "      <td>0.694398</td>\n",
       "      <td>1.099585</td>\n",
       "      <td>0.924850</td>\n",
       "    </tr>\n",
       "    <tr>\n",
       "      <th>1</th>\n",
       "      <td>2485.158537</td>\n",
       "      <td>0.304878</td>\n",
       "      <td>0.286220</td>\n",
       "      <td>0.676341</td>\n",
       "      <td>1.743902</td>\n",
       "      <td>1.256098</td>\n",
       "    </tr>\n",
       "    <tr>\n",
       "      <th>2</th>\n",
       "      <td>2007.679245</td>\n",
       "      <td>0.471698</td>\n",
       "      <td>0.343585</td>\n",
       "      <td>0.653019</td>\n",
       "      <td>2.358491</td>\n",
       "      <td>1.547170</td>\n",
       "    </tr>\n",
       "    <tr>\n",
       "      <th>3</th>\n",
       "      <td>1909.068966</td>\n",
       "      <td>0.724138</td>\n",
       "      <td>0.334138</td>\n",
       "      <td>0.741379</td>\n",
       "      <td>2.137931</td>\n",
       "      <td>1.689655</td>\n",
       "    </tr>\n",
       "    <tr>\n",
       "      <th>4</th>\n",
       "      <td>1424.000000</td>\n",
       "      <td>0.722222</td>\n",
       "      <td>0.309444</td>\n",
       "      <td>0.869444</td>\n",
       "      <td>2.055556</td>\n",
       "      <td>2.000000</td>\n",
       "    </tr>\n",
       "    <tr>\n",
       "      <th>5</th>\n",
       "      <td>1437.272727</td>\n",
       "      <td>1.136364</td>\n",
       "      <td>0.331818</td>\n",
       "      <td>0.570455</td>\n",
       "      <td>2.272727</td>\n",
       "      <td>2.818182</td>\n",
       "    </tr>\n",
       "    <tr>\n",
       "      <th>6</th>\n",
       "      <td>562.000000</td>\n",
       "      <td>0.833333</td>\n",
       "      <td>0.340000</td>\n",
       "      <td>0.591667</td>\n",
       "      <td>2.500000</td>\n",
       "      <td>2.000000</td>\n",
       "    </tr>\n",
       "    <tr>\n",
       "      <th>7</th>\n",
       "      <td>1716.750000</td>\n",
       "      <td>0.750000</td>\n",
       "      <td>0.314167</td>\n",
       "      <td>0.655000</td>\n",
       "      <td>2.583333</td>\n",
       "      <td>4.333333</td>\n",
       "    </tr>\n",
       "    <tr>\n",
       "      <th>8</th>\n",
       "      <td>680.666667</td>\n",
       "      <td>1.333333</td>\n",
       "      <td>0.365000</td>\n",
       "      <td>0.833333</td>\n",
       "      <td>2.666667</td>\n",
       "      <td>2.000000</td>\n",
       "    </tr>\n",
       "    <tr>\n",
       "      <th>9</th>\n",
       "      <td>1375.400000</td>\n",
       "      <td>2.200000</td>\n",
       "      <td>0.310000</td>\n",
       "      <td>0.392000</td>\n",
       "      <td>2.400000</td>\n",
       "      <td>2.000000</td>\n",
       "    </tr>\n",
       "    <tr>\n",
       "      <th>10</th>\n",
       "      <td>1543.200000</td>\n",
       "      <td>1.800000</td>\n",
       "      <td>0.480000</td>\n",
       "      <td>0.590000</td>\n",
       "      <td>2.600000</td>\n",
       "      <td>4.600000</td>\n",
       "    </tr>\n",
       "    <tr>\n",
       "      <th>11</th>\n",
       "      <td>355.500000</td>\n",
       "      <td>5.000000</td>\n",
       "      <td>0.320000</td>\n",
       "      <td>1.000000</td>\n",
       "      <td>1.500000</td>\n",
       "      <td>0.500000</td>\n",
       "    </tr>\n",
       "    <tr>\n",
       "      <th>12</th>\n",
       "      <td>781.500000</td>\n",
       "      <td>2.000000</td>\n",
       "      <td>0.370000</td>\n",
       "      <td>0.515000</td>\n",
       "      <td>1.500000</td>\n",
       "      <td>1.000000</td>\n",
       "    </tr>\n",
       "    <tr>\n",
       "      <th>13</th>\n",
       "      <td>508.666667</td>\n",
       "      <td>4.000000</td>\n",
       "      <td>0.510000</td>\n",
       "      <td>0.350000</td>\n",
       "      <td>3.333333</td>\n",
       "      <td>2.333333</td>\n",
       "    </tr>\n",
       "    <tr>\n",
       "      <th>14</th>\n",
       "      <td>1236.069444</td>\n",
       "      <td>1.555556</td>\n",
       "      <td>0.476806</td>\n",
       "      <td>0.598611</td>\n",
       "      <td>2.375000</td>\n",
       "      <td>3.527778</td>\n",
       "    </tr>\n",
       "  </tbody>\n",
       "</table>\n",
       "</div>"
      ],
      "text/plain": [
       "                 Unnamed: 0    visits       age    income   illness    health\n",
       "gender reduced                                                               \n",
       "female 0        2524.038512  0.229322  0.465755  0.482735  1.462144  1.115098\n",
       "       1        1985.768421  0.400000  0.325684  0.542105  2.242105  1.610526\n",
       "       2        1622.618182  0.672727  0.391455  0.560182  2.236364  1.781818\n",
       "       3         997.311111  1.333333  0.403111  0.516000  2.733333  1.733333\n",
       "       4        1237.740741  0.851852  0.458889  0.466667  2.222222  2.074074\n",
       "       5        1169.055556  1.444444  0.401667  0.614444  2.222222  2.500000\n",
       "       6        1382.545455  1.363636  0.426364  0.622727  2.363636  1.363636\n",
       "       7        1034.846154  1.384615  0.436154  0.473462  2.653846  2.230769\n",
       "       8        1883.090909  1.090909  0.471818  0.404545  2.181818  4.000000\n",
       "       9        1349.000000  0.500000  0.570000  0.825000  3.000000  1.000000\n",
       "       10       1099.428571  2.142857  0.512857  0.421429  2.571429  2.000000\n",
       "       12       1661.000000  2.000000  0.720000  0.250000  3.500000  5.500000\n",
       "       13        906.000000  4.000000  0.720000  0.300000  4.500000  3.500000\n",
       "       14       1392.112069  1.543103  0.551724  0.427586  2.534483  4.112069\n",
       "male   0        3008.911019  0.136007  0.344703  0.694398  1.099585  0.924850\n",
       "       1        2485.158537  0.304878  0.286220  0.676341  1.743902  1.256098\n",
       "       2        2007.679245  0.471698  0.343585  0.653019  2.358491  1.547170\n",
       "       3        1909.068966  0.724138  0.334138  0.741379  2.137931  1.689655\n",
       "       4        1424.000000  0.722222  0.309444  0.869444  2.055556  2.000000\n",
       "       5        1437.272727  1.136364  0.331818  0.570455  2.272727  2.818182\n",
       "       6         562.000000  0.833333  0.340000  0.591667  2.500000  2.000000\n",
       "       7        1716.750000  0.750000  0.314167  0.655000  2.583333  4.333333\n",
       "       8         680.666667  1.333333  0.365000  0.833333  2.666667  2.000000\n",
       "       9        1375.400000  2.200000  0.310000  0.392000  2.400000  2.000000\n",
       "       10       1543.200000  1.800000  0.480000  0.590000  2.600000  4.600000\n",
       "       11        355.500000  5.000000  0.320000  1.000000  1.500000  0.500000\n",
       "       12        781.500000  2.000000  0.370000  0.515000  1.500000  1.000000\n",
       "       13        508.666667  4.000000  0.510000  0.350000  3.333333  2.333333\n",
       "       14       1236.069444  1.555556  0.476806  0.598611  2.375000  3.527778"
      ]
     },
     "execution_count": 21,
     "metadata": {},
     "output_type": "execute_result"
    }
   ],
   "source": [
    "df.groupby(['gender','reduced']).mean()"
   ]
  },
  {
   "cell_type": "markdown",
   "metadata": {},
   "source": [
    "# Find out the coreleation between the variables in the given dataset correleation between different variables"
   ]
  },
  {
   "cell_type": "code",
   "execution_count": 22,
   "metadata": {},
   "outputs": [
    {
     "data": {
      "text/plain": [
       "<AxesSubplot:>"
      ]
     },
     "execution_count": 22,
     "metadata": {},
     "output_type": "execute_result"
    },
    {
     "data": {
      "image/png": "[encoded data removed]",
      "text/plain": [
       "<Figure size 720x720 with 2 Axes>"
      ]
     },
     "metadata": {
      "needs_background": "light"
     },
     "output_type": "display_data"
    }
   ],
   "source": [
    "plt.figure(figsize=(10,10))\n",
    "sns.heatmap(df.corr(),cbar=True ,annot=True ,cmap='Blues')"
   ]
  },
  {
   "cell_type": "markdown",
   "metadata": {},
   "source": [
    "**The reduced and the visits are highly corelated**"
   ]
  },
  {
   "cell_type": "markdown",
   "metadata": {},
   "source": [
    "# Analyse how the income of a patient affects the no of visits to the hospital"
   ]
  },
  {
   "cell_type": "code",
   "execution_count": 23,
   "metadata": {},
   "outputs": [
    {
     "data": {
      "text/plain": [
       "Text(0, 0.5, 'visits')"
      ]
     },
     "execution_count": 23,
     "metadata": {},
     "output_type": "execute_result"
    },
    {
     "data": {
      "image/png": "[encoded data removed]",
      "text/plain": [
       "<Figure size 720x720 with 1 Axes>"
      ]
     },
     "metadata": {
      "needs_background": "light"
     },
     "output_type": "display_data"
    }
   ],
   "source": [
    "#relation between income and visits\n",
    "\n",
    "plt.figure(figsize=(10,10))\n",
    "\n",
    "plt.scatter(x='income',y='visits',data=df)\n",
    "plt.xlabel('income')\n",
    "\n",
    "plt.ylabel('visits')"
   ]
  },
  {
   "cell_type": "markdown",
   "metadata": {},
   "source": [
    "# Count and visualize the number of males and females"
   ]
  },
  {
   "cell_type": "code",
   "execution_count": 24,
   "metadata": {},
   "outputs": [
    {
     "data": {
      "text/plain": [
       "<AxesSubplot:xlabel='gender', ylabel='Count'>"
      ]
     },
     "execution_count": 24,
     "metadata": {},
     "output_type": "execute_result"
    },
    {
     "data": {
      "image/png": "[encoded data removed]",
      "text/plain": [
       "<Figure size 432x288 with 1 Axes>"
      ]
     },
     "metadata": {
      "needs_background": "light"
     },
     "output_type": "display_data"
    }
   ],
   "source": [
    "#No: of male and female affected by illness 2 \n",
    "sns.histplot(df.gender,bins=2)"
   ]
  },
  {
   "cell_type": "markdown",
   "metadata": {},
   "source": [
    "# Visualize the percentage of people getting govt health Insurance due to low income, due to old age and also the percentge of people having private health insurance"
   ]
  },
  {
   "cell_type": "code",
   "execution_count": 25,
   "metadata": {},
   "outputs": [
    {
     "data": {
      "image/png": "[encoded data removed]",
      "text/plain": [
       "<Figure size 360x360 with 1 Axes>"
      ]
     },
     "metadata": {},
     "output_type": "display_data"
    },
    {
     "data": {
      "image/png": "[encoded data removed]",
      "text/plain": [
       "<Figure size 360x360 with 1 Axes>"
      ]
     },
     "metadata": {},
     "output_type": "display_data"
    },
    {
     "data": {
      "image/png": "[encoded data removed]",
      "text/plain": [
       "<Figure size 360x360 with 1 Axes>"
      ]
     },
     "metadata": {},
     "output_type": "display_data"
    }
   ],
   "source": [
    "# % of people getting govt Insurance due to low income\n",
    "label = ['yes', 'no']\n",
    "Y = df[df['freepoor'] == 'yes']\n",
    "N = df[df['freepoor'] == 'no']\n",
    "x = [Y.shape[0], N.shape[0]]\n",
    "\n",
    "plt.figure(figsize=(5, 5))\n",
    "plt.pie(x, labels=label, autopct='%1.1f%%', colors=['cornflowerblue', 'lightseagreen'])\n",
    "plt.title('% of people getting govt health Insurance due to low income')\n",
    "plt.show()\n",
    "\n",
    "# % of people having private Insurance\n",
    "Y = df[df['private'] == 'yes']\n",
    "N = df[df['private'] == 'no']\n",
    "x = [Y.shape[0], N.shape[0]]\n",
    "\n",
    "plt.figure(figsize=(5, 5))\n",
    "plt.pie(x, labels=label, autopct='%1.1f%%', colors=['cornflowerblue', 'lightseagreen'])\n",
    "plt.title(\"% of people having private health Insurance \")\n",
    "plt.show()\n",
    "\n",
    "# % of people getting govt Insurance due to old age, disability or veteran status\n",
    "Y = df[df['freerepat'] == 'yes']\n",
    "N = df[df['freerepat'] == 'no']\n",
    "x = [Y.shape[0], N.shape[0]]\n",
    "\n",
    "plt.figure(figsize=(5, 5))\n",
    "plt.pie(x, labels=label, autopct='%1.1f%%', colors=['cornflowerblue', 'lightseagreen'])\n",
    "plt.title(\"% of people getting govt health Insurance due to old age, disability, or veteran status\")\n",
    "plt.show()"
   ]
  },
  {
   "cell_type": "markdown",
   "metadata": {},
   "source": [
    "# Plot a horizontal bar chart to analyze the reduced days of activity due to illneess based on Gender"
   ]
  },
  {
   "cell_type": "code",
   "execution_count": 26,
   "metadata": {},
   "outputs": [
    {
     "data": {
      "image/png": "[encoded data removed]",
      "text/plain": [
       "<Figure size 432x288 with 1 Axes>"
      ]
     },
     "metadata": {
      "needs_background": "light"
     },
     "output_type": "display_data"
    },
    {
     "data": {
      "text/plain": [
       "<Figure size 720x720 with 0 Axes>"
      ]
     },
     "metadata": {},
     "output_type": "display_data"
    }
   ],
   "source": [
    "db= df.groupby('gender')['reduced'].sum().to_frame().reset_index()\n",
    "\n",
    "#Creating the bar chart\n",
    "\n",
    "plt.barh(db['gender'], db['reduced'], color = ['cornflowerblue', 'lightseagreen'])\n",
    "\n",
    "#Adding the aesthetics\n",
    "\n",
    "plt.title('Bar Chart')\n",
    "\n",
    "plt.xlabel('gender')\n",
    "\n",
    "plt.ylabel('reduced activity')\n",
    "\n",
    "plt.figure(figsize=(10,10))\n",
    "\n",
    "\n",
    "#Show the plot\n",
    "\n",
    "plt.show()\n",
    "\n"
   ]
  },
  {
   "cell_type": "markdown",
   "metadata": {},
   "source": [
    "# Calculate the mean 'health' for each 'illness' category\n"
   ]
  },
  {
   "cell_type": "code",
   "execution_count": 27,
   "metadata": {},
   "outputs": [
    {
     "data": {
      "image/png": "[encoded data removed]",
      "text/plain": [
       "<Figure size 576x432 with 1 Axes>"
      ]
     },
     "metadata": {
      "needs_background": "light"
     },
     "output_type": "display_data"
    }
   ],
   "source": [
    "mean_health_by_illness = df.groupby('illness')['health'].mean().reset_index()\n",
    "\n",
    "# Plot the relationship between 'illness' and 'health' using a bar plot\n",
    "plt.figure(figsize=(8, 6))\n",
    "sns.barplot(x='illness', y='health', data=mean_health_by_illness, palette='coolwarm')\n",
    "plt.xlabel('Illness Category')\n",
    "plt.ylabel('Mean Health')\n",
    "plt.title('Mean Health for Each Illness Category')\n",
    "plt.show()"
   ]
  },
  {
   "cell_type": "markdown",
   "metadata": {},
   "source": [
    "# Calculate the mean 'reduced' for each 'visits' category\n"
   ]
  },
  {
   "cell_type": "code",
   "execution_count": 28,
   "metadata": {},
   "outputs": [
    {
     "data": {
      "image/png": "[encoded data removed]",
      "text/plain": [
       "<Figure size 576x432 with 1 Axes>"
      ]
     },
     "metadata": {
      "needs_background": "light"
     },
     "output_type": "display_data"
    }
   ],
   "source": [
    "mean_reduced_by_visits = df.groupby('visits')['reduced'].mean().reset_index()\n",
    "\n",
    "# Plot the relationship between 'visits' and 'reduced' using a bar plot\n",
    "plt.figure(figsize=(8, 6))\n",
    "sns.barplot(x='visits', y='reduced', data=mean_reduced_by_visits, palette='coolwarm')\n",
    "plt.xlabel('Number of Visits')\n",
    "plt.ylabel('Mean Reduced Days')\n",
    "plt.title('Mean Reduced Days for Each Number of Visits')\n",
    "plt.show()"
   ]
  },
  {
   "cell_type": "markdown",
   "metadata": {},
   "source": [
    "# Calculate the mean number of visits for each 'illness' category\n"
   ]
  },
  {
   "cell_type": "code",
   "execution_count": 29,
   "metadata": {},
   "outputs": [
    {
     "data": {
      "image/png": "[encoded data removed]",
      "text/plain": [
       "<Figure size 576x432 with 1 Axes>"
      ]
     },
     "metadata": {
      "needs_background": "light"
     },
     "output_type": "display_data"
    }
   ],
   "source": [
    "mean_visits_by_illness = df.groupby('illness')['visits'].mean().reset_index()\n",
    "\n",
    "# Plot the relationship between 'illness' and 'visits' using a bar plot\n",
    "plt.figure(figsize=(8, 6))\n",
    "sns.barplot(x='illness', y='visits', data=mean_visits_by_illness, palette='coolwarm')\n",
    "plt.xlabel('Illness Category')\n",
    "plt.ylabel('Mean Number of Visits')\n",
    "plt.title('Mean Number of Visits for Each Illness Category')\n",
    "plt.show()"
   ]
  },
  {
   "cell_type": "markdown",
   "metadata": {},
   "source": [
    "# Frequency of Chronic illness:"
   ]
  },
  {
   "cell_type": "code",
   "execution_count": 35,
   "metadata": {},
   "outputs": [
    {
     "data": {
      "image/png": "[encoded data removed]",
      "text/plain": [
       "<Figure size 432x432 with 1 Axes>"
      ]
     },
     "metadata": {},
     "output_type": "display_data"
    },
    {
     "data": {
      "image/png": "[encoded data removed]",
      "text/plain": [
       "<Figure size 432x432 with 1 Axes>"
      ]
     },
     "metadata": {},
     "output_type": "display_data"
    }
   ],
   "source": [
    "# Calculate percentages for Non-Chronic Illness\n",
    "nchronic_counts = df['nchronic'].value_counts()\n",
    "total_nchronic = nchronic_counts.sum()\n",
    "nchronic_percentages = (nchronic_counts / total_nchronic) * 100\n",
    "\n",
    "# Calculate percentages for Long-term Chronic Illness\n",
    "lchronic_counts = df['lchronic'].value_counts()\n",
    "total_lchronic = lchronic_counts.sum()\n",
    "lchronic_percentages = (lchronic_counts / total_lchronic) * 100\n",
    "\n",
    "# Plot Distribution of Non-Chronic Illness with pie chart\n",
    "plt.figure(figsize=(6, 6))\n",
    "plt.pie(nchronic_percentages, labels=nchronic_percentages.index, autopct='%1.1f%%', colors=sns.color_palette('viridis'))\n",
    "plt.title('Distribution of Non-Chronic Illness')\n",
    "plt.show()\n",
    "\n",
    "# Plot Distribution of Long-term Chronic Illness with pie chart\n",
    "plt.figure(figsize=(6, 6))\n",
    "plt.pie(lchronic_percentages, labels=lchronic_percentages.index, autopct='%1.1f%%', colors=sns.color_palette('viridis'))\n",
    "plt.title('Distribution of Long-term Chronic Illness')\n",
    "plt.show()"
   ]
  },
  {
   "cell_type": "markdown",
   "metadata": {},
   "source": [
    "# Age Distribution of Patients with Chronic and Non-Chronic Illnesses"
   ]
  },
  {
   "cell_type": "code",
   "execution_count": 32,
   "metadata": {},
   "outputs": [
    {
     "data": {
      "image/png": "[encoded data removed]",
      "text/plain": [
       "<Figure size 720x432 with 1 Axes>"
      ]
     },
     "metadata": {
      "needs_background": "light"
     },
     "output_type": "display_data"
    }
   ],
   "source": [
    "chronic_patients = df[df['lchronic'] == 'yes']\n",
    "non_chronic_patients = df[df['nchronic'] == 'yes']\n",
    "\n",
    "# Plot histograms for age distribution of chronic and non-chronic patients\n",
    "plt.figure(figsize=(10, 6))\n",
    "sns.histplot(chronic_patients['age'], bins=20, color='blue', label='Chronic')\n",
    "sns.histplot(non_chronic_patients['age'], bins=20, color='orange', label='Non-Chronic')\n",
    "plt.xlabel('Age')\n",
    "plt.ylabel('Count')\n",
    "plt.title('Age Distribution of Patients with Chronic and Non-Chronic Illnesses')\n",
    "plt.legend()\n",
    "plt.show()"
   ]
  },
  {
   "cell_type": "code",
   "execution_count": null,
   "metadata": {},
   "outputs": [],
   "source": []
  }
 ],
 "metadata": {
  "colab": {
   "provenance": []
  },
  "kernelspec": {
   "display_name": "Python 3 (ipykernel)",
   "language": "python",
   "name": "python3"
  },
  "language_info": {
   "codemirror_mode": {
    "name": "ipython",
    "version": 3
   },
   "file_extension": ".py",
   "mimetype": "text/x-python",
   "name": "python",
   "nbconvert_exporter": "python",
   "pygments_lexer": "ipython3",
   "version": "3.9.12"
  }
 },
 "nbformat": 4,
 "nbformat_minor": 1
}
